{
  "nbformat": 4,
  "nbformat_minor": 0,
  "metadata": {
    "colab": {
      "provenance": [],
      "collapsed_sections": [
        "dVeFBA-zbr9A"
      ],
      "authorship_tag": "ABX9TyOwjOmkLDrN+r2wioJCacHt",
      "include_colab_link": true
    },
    "kernelspec": {
      "name": "python3",
      "display_name": "Python 3"
    },
    "language_info": {
      "name": "python"
    }
  },
  "cells": [
    {
      "cell_type": "markdown",
      "metadata": {
        "id": "view-in-github",
        "colab_type": "text"
      },
      "source": [
        "<a href=\"https://colab.research.google.com/github/HallIsEmpty/colab_notebook_template/blob/main/updated_workbook_with_pr_utils.ipynb\" target=\"_parent\"><img src=\"https://colab.research.google.com/assets/colab-badge.svg\" alt=\"Open In Colab\"/></a>"
      ]
    },
    {
      "cell_type": "markdown",
      "source": [
        "# setup\n",
        "\n",
        "imports pr_utils from our github repo.  most of the requirements are set up there"
      ],
      "metadata": {
        "id": "gVfxCQj0bjgk"
      }
    },
    {
      "cell_type": "code",
      "execution_count": null,
      "metadata": {
        "colab": {
          "base_uri": "https://localhost:8080/"
        },
        "id": "YsiqeqUVbUnK",
        "outputId": "a53b1cde-b283-4dcd-e097-5c537272f64d",
        "collapsed": true
      },
      "outputs": [
        {
          "output_type": "stream",
          "name": "stdout",
          "text": [
            "Collecting git+https://****@github.com/pizzaranch/pr_utils.git\n",
            "  Cloning https://****@github.com/pizzaranch/pr_utils.git to /tmp/pip-req-build-_4gsw_if\n",
            "  Running command git clone --filter=blob:none --quiet 'https://****@github.com/pizzaranch/pr_utils.git' /tmp/pip-req-build-_4gsw_if\n",
            "  Resolved https://****@github.com/pizzaranch/pr_utils.git to commit de4d74bb2361457f116d407bd32e0ad30993b46c\n",
            "  Installing build dependencies ... \u001b[?25l\u001b[?25hdone\n",
            "  Getting requirements to build wheel ... \u001b[?25l\u001b[?25hdone\n",
            "  Preparing metadata (pyproject.toml) ... \u001b[?25l\u001b[?25hdone\n",
            "Requirement already satisfied: numpy in /usr/local/lib/python3.10/dist-packages (from pr_utils==0.1.0) (1.26.4)\n",
            "Requirement already satisfied: pandas in /usr/local/lib/python3.10/dist-packages (from pr_utils==0.1.0) (2.2.2)\n",
            "Requirement already satisfied: pyarrow in /usr/local/lib/python3.10/dist-packages (from pr_utils==0.1.0) (16.1.0)\n",
            "Collecting python-dotenv (from pr_utils==0.1.0)\n",
            "  Downloading python_dotenv-1.0.1-py3-none-any.whl.metadata (23 kB)\n",
            "Collecting azure-identity (from pr_utils==0.1.0)\n",
            "  Downloading azure_identity-1.19.0-py3-none-any.whl.metadata (80 kB)\n",
            "\u001b[2K     \u001b[90m━━━━━━━━━━━━━━━━━━━━━━━━━━━━━━━━━━━━━━━━\u001b[0m \u001b[32m80.6/80.6 kB\u001b[0m \u001b[31m2.8 MB/s\u001b[0m eta \u001b[36m0:00:00\u001b[0m\n",
            "\u001b[?25hCollecting azure-storage-blob (from pr_utils==0.1.0)\n",
            "  Downloading azure_storage_blob-12.23.1-py3-none-any.whl.metadata (26 kB)\n",
            "Collecting azure-storage-file-datalake (from pr_utils==0.1.0)\n",
            "  Downloading azure_storage_file_datalake-12.17.0-py3-none-any.whl.metadata (16 kB)\n",
            "Collecting azure-core>=1.31.0 (from azure-identity->pr_utils==0.1.0)\n",
            "  Downloading azure_core-1.31.0-py3-none-any.whl.metadata (39 kB)\n",
            "Requirement already satisfied: cryptography>=2.5 in /usr/local/lib/python3.10/dist-packages (from azure-identity->pr_utils==0.1.0) (43.0.3)\n",
            "Collecting msal>=1.30.0 (from azure-identity->pr_utils==0.1.0)\n",
            "  Downloading msal-1.31.0-py3-none-any.whl.metadata (11 kB)\n",
            "Collecting msal-extensions>=1.2.0 (from azure-identity->pr_utils==0.1.0)\n",
            "  Downloading msal_extensions-1.2.0-py3-none-any.whl.metadata (7.6 kB)\n",
            "Requirement already satisfied: typing-extensions>=4.0.0 in /usr/local/lib/python3.10/dist-packages (from azure-identity->pr_utils==0.1.0) (4.12.2)\n",
            "Collecting isodate>=0.6.1 (from azure-storage-blob->pr_utils==0.1.0)\n",
            "  Downloading isodate-0.7.2-py3-none-any.whl.metadata (11 kB)\n",
            "Requirement already satisfied: python-dateutil>=2.8.2 in /usr/local/lib/python3.10/dist-packages (from pandas->pr_utils==0.1.0) (2.8.2)\n",
            "Requirement already satisfied: pytz>=2020.1 in /usr/local/lib/python3.10/dist-packages (from pandas->pr_utils==0.1.0) (2024.2)\n",
            "Requirement already satisfied: tzdata>=2022.7 in /usr/local/lib/python3.10/dist-packages (from pandas->pr_utils==0.1.0) (2024.2)\n",
            "Requirement already satisfied: requests>=2.21.0 in /usr/local/lib/python3.10/dist-packages (from azure-core>=1.31.0->azure-identity->pr_utils==0.1.0) (2.32.3)\n",
            "Requirement already satisfied: six>=1.11.0 in /usr/local/lib/python3.10/dist-packages (from azure-core>=1.31.0->azure-identity->pr_utils==0.1.0) (1.16.0)\n",
            "Requirement already satisfied: cffi>=1.12 in /usr/local/lib/python3.10/dist-packages (from cryptography>=2.5->azure-identity->pr_utils==0.1.0) (1.17.1)\n",
            "Requirement already satisfied: PyJWT<3,>=1.0.0 in /usr/local/lib/python3.10/dist-packages (from PyJWT[crypto]<3,>=1.0.0->msal>=1.30.0->azure-identity->pr_utils==0.1.0) (2.9.0)\n",
            "Collecting portalocker<3,>=1.4 (from msal-extensions>=1.2.0->azure-identity->pr_utils==0.1.0)\n",
            "  Downloading portalocker-2.10.1-py3-none-any.whl.metadata (8.5 kB)\n",
            "Requirement already satisfied: pycparser in /usr/local/lib/python3.10/dist-packages (from cffi>=1.12->cryptography>=2.5->azure-identity->pr_utils==0.1.0) (2.22)\n",
            "Requirement already satisfied: charset-normalizer<4,>=2 in /usr/local/lib/python3.10/dist-packages (from requests>=2.21.0->azure-core>=1.31.0->azure-identity->pr_utils==0.1.0) (3.4.0)\n",
            "Requirement already satisfied: idna<4,>=2.5 in /usr/local/lib/python3.10/dist-packages (from requests>=2.21.0->azure-core>=1.31.0->azure-identity->pr_utils==0.1.0) (3.10)\n",
            "Requirement already satisfied: urllib3<3,>=1.21.1 in /usr/local/lib/python3.10/dist-packages (from requests>=2.21.0->azure-core>=1.31.0->azure-identity->pr_utils==0.1.0) (2.2.3)\n",
            "Requirement already satisfied: certifi>=2017.4.17 in /usr/local/lib/python3.10/dist-packages (from requests>=2.21.0->azure-core>=1.31.0->azure-identity->pr_utils==0.1.0) (2024.8.30)\n",
            "Downloading azure_identity-1.19.0-py3-none-any.whl (187 kB)\n",
            "\u001b[2K   \u001b[90m━━━━━━━━━━━━━━━━━━━━━━━━━━━━━━━━━━━━━━━━\u001b[0m \u001b[32m187.6/187.6 kB\u001b[0m \u001b[31m6.0 MB/s\u001b[0m eta \u001b[36m0:00:00\u001b[0m\n",
            "\u001b[?25hDownloading azure_storage_blob-12.23.1-py3-none-any.whl (405 kB)\n",
            "\u001b[2K   \u001b[90m━━━━━━━━━━━━━━━━━━━━━━━━━━━━━━━━━━━━━━━━\u001b[0m \u001b[32m405.6/405.6 kB\u001b[0m \u001b[31m14.1 MB/s\u001b[0m eta \u001b[36m0:00:00\u001b[0m\n",
            "\u001b[?25hDownloading azure_storage_file_datalake-12.17.0-py3-none-any.whl (255 kB)\n",
            "\u001b[2K   \u001b[90m━━━━━━━━━━━━━━━━━━━━━━━━━━━━━━━━━━━━━━━━\u001b[0m \u001b[32m255.7/255.7 kB\u001b[0m \u001b[31m19.2 MB/s\u001b[0m eta \u001b[36m0:00:00\u001b[0m\n",
            "\u001b[?25hDownloading python_dotenv-1.0.1-py3-none-any.whl (19 kB)\n",
            "Downloading azure_core-1.31.0-py3-none-any.whl (197 kB)\n",
            "\u001b[2K   \u001b[90m━━━━━━━━━━━━━━━━━━━━━━━━━━━━━━━━━━━━━━━━\u001b[0m \u001b[32m197.4/197.4 kB\u001b[0m \u001b[31m15.9 MB/s\u001b[0m eta \u001b[36m0:00:00\u001b[0m\n",
            "\u001b[?25hDownloading isodate-0.7.2-py3-none-any.whl (22 kB)\n",
            "Downloading msal-1.31.0-py3-none-any.whl (113 kB)\n",
            "\u001b[2K   \u001b[90m━━━━━━━━━━━━━━━━━━━━━━━━━━━━━━━━━━━━━━━━\u001b[0m \u001b[32m113.1/113.1 kB\u001b[0m \u001b[31m7.3 MB/s\u001b[0m eta \u001b[36m0:00:00\u001b[0m\n",
            "\u001b[?25hDownloading msal_extensions-1.2.0-py3-none-any.whl (19 kB)\n",
            "Downloading portalocker-2.10.1-py3-none-any.whl (18 kB)\n",
            "Building wheels for collected packages: pr_utils\n",
            "  Building wheel for pr_utils (pyproject.toml) ... \u001b[?25l\u001b[?25hdone\n",
            "  Created wheel for pr_utils: filename=pr_utils-0.1.0-py3-none-any.whl size=4056 sha256=7fddb92855ac6daab795ae672124f9f53cc614570c1c58eea59029429e96c279\n",
            "  Stored in directory: /tmp/pip-ephem-wheel-cache-eusp3phu/wheels/c6/da/9a/62eeaf8cc4fa2f11a80e8a0e864781b05d3cb59a1fec2dd72e\n",
            "Successfully built pr_utils\n",
            "Installing collected packages: python-dotenv, portalocker, isodate, azure-core, azure-storage-blob, msal, azure-storage-file-datalake, msal-extensions, azure-identity, pr_utils\n",
            "Successfully installed azure-core-1.31.0 azure-identity-1.19.0 azure-storage-blob-12.23.1 azure-storage-file-datalake-12.17.0 isodate-0.7.2 msal-1.31.0 msal-extensions-1.2.0 portalocker-2.10.1 pr_utils-0.1.0 python-dotenv-1.0.1\n"
          ]
        }
      ],
      "source": [
        "import json\n",
        "import io\n",
        "from datetime import date, datetime, timedelta\n",
        "\n",
        "file_system_name = 'revel'\n",
        "\n",
        "#fetch userdata['AZURE_STRING'] and set it to env variable AZURE_STRING\n",
        "from google.colab import userdata\n",
        "PRUTIL_TOKEN = userdata.get('prutilstoken')\n",
        "!pip install git+https://{PRUTIL_TOKEN}@github.com/pizzaranch/pr_utils.git\n",
        "\n",
        "from pr_utils import *\n",
        "\n"
      ]
    },
    {
      "cell_type": "markdown",
      "source": [
        "# pulling API data\n",
        "\n",
        "This will get data from teh API and put it in the data lake.  The data can be worked with straight from here, but saving it in prdatalake keeps us from having to refetch from Revel"
      ],
      "metadata": {
        "id": "15uri3Lnb3l8"
      }
    },
    {
      "cell_type": "code",
      "source": [
        "start_date = datetime.strptime('2024-10-13', \"%Y-%m-%d\")\n",
        "end_date = datetime.strptime('2024-11-06', \"%Y-%m-%d\")\n",
        "\n",
        "params = {\n",
        "    'closed':True,\n",
        "    'limit':1000\n",
        "}\n",
        "\n",
        "api_path = '/resources/Order'\n",
        "\n",
        "file_name = 'all_order_objects.parquet'\n",
        "\n",
        "gather_data_from_api(start_date, end_date, api_path, params, 'all_order_objects', file_name)\n",
        "\n",
        "print('done with everything')"
      ],
      "metadata": {
        "id": "jBdyOZZscCzq"
      },
      "execution_count": null,
      "outputs": []
    },
    {
      "cell_type": "markdown",
      "source": [
        "# Pulling Data Lake data\n",
        "\n",
        "define start_date and end_date and adjust accordingly"
      ],
      "metadata": {
        "id": "dVeFBA-zbr9A"
      }
    },
    {
      "cell_type": "code",
      "source": [
        "end_date = datetime.strptime('2024-09-23', \"%Y-%m-%d\")\n",
        "start_date = datetime.strptime('2024-09-20', \"%Y-%m-%d\")\n",
        "\n",
        "df = get_data_files_in_date_range(start_date, end_date, 'revel', 'all_order_objects')\n",
        "print('all done')"
      ],
      "metadata": {
        "colab": {
          "base_uri": "https://localhost:8080/",
          "height": 221
        },
        "id": "ocI-mIg3bi4K",
        "outputId": "b30b23e1-0999-4cf1-89ee-478676480f70"
      },
      "execution_count": null,
      "outputs": [
        {
          "output_type": "error",
          "ename": "NameError",
          "evalue": "name 'datetime' is not defined",
          "traceback": [
            "\u001b[0;31m---------------------------------------------------------------------------\u001b[0m",
            "\u001b[0;31mNameError\u001b[0m                                 Traceback (most recent call last)",
            "\u001b[0;32m<ipython-input-1-29ba5b76166c>\u001b[0m in \u001b[0;36m<cell line: 1>\u001b[0;34m()\u001b[0m\n\u001b[0;32m----> 1\u001b[0;31m \u001b[0mend_date\u001b[0m \u001b[0;34m=\u001b[0m \u001b[0mdatetime\u001b[0m\u001b[0;34m.\u001b[0m\u001b[0mstrptime\u001b[0m\u001b[0;34m(\u001b[0m\u001b[0;34m'2024-09-23'\u001b[0m\u001b[0;34m,\u001b[0m \u001b[0;34m\"%Y-%m-%d\"\u001b[0m\u001b[0;34m)\u001b[0m\u001b[0;34m\u001b[0m\u001b[0;34m\u001b[0m\u001b[0m\n\u001b[0m\u001b[1;32m      2\u001b[0m \u001b[0mstart_date\u001b[0m \u001b[0;34m=\u001b[0m \u001b[0mdatetime\u001b[0m\u001b[0;34m.\u001b[0m\u001b[0mstrptime\u001b[0m\u001b[0;34m(\u001b[0m\u001b[0;34m'2024-09-20'\u001b[0m\u001b[0;34m,\u001b[0m \u001b[0;34m\"%Y-%m-%d\"\u001b[0m\u001b[0;34m)\u001b[0m\u001b[0;34m\u001b[0m\u001b[0;34m\u001b[0m\u001b[0m\n\u001b[1;32m      3\u001b[0m \u001b[0;34m\u001b[0m\u001b[0m\n\u001b[1;32m      4\u001b[0m \u001b[0mdf\u001b[0m \u001b[0;34m=\u001b[0m \u001b[0mget_data_files_in_date_range\u001b[0m\u001b[0;34m(\u001b[0m\u001b[0mstart_date\u001b[0m\u001b[0;34m,\u001b[0m \u001b[0mend_date\u001b[0m\u001b[0;34m,\u001b[0m \u001b[0;34m'revel'\u001b[0m\u001b[0;34m,\u001b[0m \u001b[0;34m'all_order_objects'\u001b[0m\u001b[0;34m)\u001b[0m\u001b[0;34m\u001b[0m\u001b[0;34m\u001b[0m\u001b[0m\n\u001b[1;32m      5\u001b[0m \u001b[0mprint\u001b[0m\u001b[0;34m(\u001b[0m\u001b[0;34m'all done'\u001b[0m\u001b[0;34m)\u001b[0m\u001b[0;34m\u001b[0m\u001b[0;34m\u001b[0m\u001b[0m\n",
            "\u001b[0;31mNameError\u001b[0m: name 'datetime' is not defined"
          ]
        }
      ]
    },
    {
      "cell_type": "code",
      "source": [
        "print(df.shape)\n",
        "print(df.head())"
      ],
      "metadata": {
        "colab": {
          "base_uri": "https://localhost:8080/"
        },
        "id": "t1wPo57-br3s",
        "outputId": "22782fe1-c38a-440b-bb6c-457586da6801"
      },
      "execution_count": null,
      "outputs": [
        {
          "output_type": "stream",
          "name": "stdout",
          "text": [
            "(177463, 117)\n",
            "   running_tax_number  web_order  has_items registry_data exchange_discount  \\\n",
            "0                   0      False       True          None              None   \n",
            "1                   0      False       True          None              None   \n",
            "2                   0      False       True          None              None   \n",
            "3                   0      False       True          None              None   \n",
            "4                   0      False       True          None              None   \n",
            "\n",
            "                                    gift_reward_data  \\\n",
            "0                                                      \n",
            "1                                                      \n",
            "2  {\"orderConfirmationId\":null,\"orderSubtotalWith...   \n",
            "3  {\"externalId\":\"262511736\",\"emailAddress\":\"adbo...   \n",
            "4  {\"externalId\":\"6000523896114640\",\"forgotVisitC...   \n",
            "\n",
            "                                   uuid               created_by  \\\n",
            "0  448b77d0-d2a7-4b7b-b4bf-522e4053ec9f  /enterprise/User/13694/   \n",
            "1  850f37d0-018f-44c0-9892-3c8687a5ffbe   /enterprise/User/7365/   \n",
            "2  85930780-ce9e-4999-9216-2a2894013447   /enterprise/User/4151/   \n",
            "3  0a313e52-f93f-4c68-95ce-5b7acf711591   /enterprise/User/4252/   \n",
            "4  00018925-ea3f-426e-93db-7e0ca0ec3129  /enterprise/User/15218/   \n",
            "\n",
            "  service_fee_untaxed discount_tax_amount_included  ...  discount_rule_amount  \\\n",
            "0            0.000000                         None  ...                 14.97   \n",
            "1            0.000000                         None  ...                   NaN   \n",
            "2            0.000000                         None  ...                   NaN   \n",
            "3            0.000000                         None  ...                   NaN   \n",
            "4            0.000000                         None  ...                 63.86   \n",
            "\n",
            "  is_readonly  external_sync                   created_at service_fee_tax  \\\n",
            "0       False           None   /resources/PosStation/383/        0.000000   \n",
            "1       False           None  /resources/PosStation/1368/        0.000000   \n",
            "2       False           None  /resources/PosStation/1171/        0.000000   \n",
            "3       False           None  /resources/PosStation/1286/        0.000000   \n",
            "4       False           None   /resources/PosStation/382/        0.000000   \n",
            "\n",
            "  discount_total_amount crv_taxed  local_id  service_fee_taxed  \\\n",
            "0             14.970000     False  24267255           0.000000   \n",
            "1              0.000000     False  24849983           3.500000   \n",
            "2            162.000000     False  25148765           3.000000   \n",
            "3              0.000000     False  25155647           0.000000   \n",
            "4             63.860000     False  25200778           0.000000   \n",
            "\n",
            "                 resource_uri  \n",
            "0  /resources/Order/24267255/  \n",
            "1  /resources/Order/24849983/  \n",
            "2  /resources/Order/25148765/  \n",
            "3  /resources/Order/25155647/  \n",
            "4  /resources/Order/25200778/  \n",
            "\n",
            "[5 rows x 117 columns]\n"
          ]
        }
      ]
    }
  ]
}